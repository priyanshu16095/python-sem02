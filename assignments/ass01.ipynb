{
 "cells": [
  {
   "cell_type": "code",
   "execution_count": null,
   "metadata": {},
   "outputs": [],
   "source": [
    "# Distance between two points\n",
    "a = int(input(\"Enter the x-coordinate of p1: \"))\n",
    "b = int(input(\"Enter the y-coordinate of p1: \"))\n",
    "c = int(input(\"Enter the x-coordinate of p2: \"))\n",
    "d = int(input(\"Enter the y-coordinate of p2: \"))\n",
    "\n",
    "dist = (a-c)**2 + (b-d)**2\n",
    "print(dist)"
   ]
  },
  {
   "cell_type": "code",
   "execution_count": null,
   "metadata": {},
   "outputs": [],
   "source": [
    "# Area of triangle\n",
    "h = int(input(\"Enter the height of the triangle: \"))\n",
    "b = int(input(\"Enter the base of the triangle: \"))\n",
    "area = 0.5 * h * b\n",
    "print(area)"
   ]
  },
  {
   "cell_type": "code",
   "execution_count": null,
   "metadata": {},
   "outputs": [],
   "source": [
    "# Number of minimum notes required\n",
    "denominations = [2000, 500, 200, 100]\n",
    "notesCount = {}\n",
    "\n",
    "amount = int(input(\"Enter the amount: \"))\n",
    "\n",
    "if(amount < 0):\n",
    "    print(\"Amount should be a positive integer.\")\n",
    "\n",
    "for denomination in denominations:\n",
    "    count = amount // denomination\n",
    "    if count > 0:\n",
    "        notesCount[denomination] = count\n",
    "        amount %= denomination\n",
    "\n",
    "for denomination, count in notesCount.items():\n",
    "    print(f\"{denomination} INR notes: {count}\")"
   ]
  },
  {
   "cell_type": "code",
   "execution_count": null,
   "metadata": {},
   "outputs": [],
   "source": [
    "# Leap year or not\n",
    "year = int(input(\"Enter the year: \"))\n",
    "if not (1000 <= year <= 9999):\n",
    "    print(f\"{year} is not a valid year!\")\n",
    "if(year%4==0 or year%100!=0 and year%400==0):\n",
    "    print(f\"{year} is a leap year\")\n",
    "else:\n",
    "    print(f\"{year} is not a leap year\")\n",
    "    "
   ]
  },
  {
   "cell_type": "markdown",
   "metadata": {},
   "source": [
    "Partitioned as primes\n",
    "If num is not a prime number and is partitioned as a and b \n",
    "then a * b < underoot of num\n",
    "and a * b is greater then the underoot of num then it is also going to be greater than num."
   ]
  },
  {
   "cell_type": "code",
   "execution_count": null,
   "metadata": {},
   "outputs": [],
   "source": [
    "# Partitioned as primes\n",
    "def isPrime(num):\n",
    "    if num < 2:\n",
    "        return False\n",
    "    for i in range(num, int(num ** 0.5) + 1):\n",
    "        if(num % i == 0):\n",
    "            return False\n",
    "    return True\n",
    "\n",
    "def primePartition(m):\n",
    "    if m <= 0:\n",
    "        return False\n",
    "    for i in range(2, m):\n",
    "        if isPrime(i) and isPrime(m-1):\n",
    "            return True\n",
    "    return False\n",
    "        \n",
    "result = primePartition(8)\n",
    "print(result)"
   ]
  },
  {
   "cell_type": "code",
   "execution_count": null,
   "metadata": {},
   "outputs": [],
   "source": [
    "marksPercentage = float(input(\"Enter the percentage of marks: \"))\n",
    "\n",
    "if marksPercentage >= 90:\n",
    "    grade = 'A'\n",
    "elif marksPercentage >= 80:\n",
    "    grade = 'B'\n",
    "elif marksPercentage >= 70:\n",
    "    grade = 'C'\n",
    "elif marksPercentage >= 60:\n",
    "    grade = 'D'\n",
    "else:\n",
    "    grade = 'Fail'\n",
    "\n",
    "print(f\"Grade: {grade}\")"
   ]
  },
  {
   "cell_type": "markdown",
   "metadata": {},
   "source": [
    "remove(element): function removes the first occurence of the element\n",
    "pop(index): returns and remove the element at that index"
   ]
  },
  {
   "cell_type": "code",
   "execution_count": null,
   "metadata": {},
   "outputs": [],
   "source": [
    "# List manipulation\n",
    "l = [12, 23, 2356, 67, 24]\n",
    "\n",
    "size = 0\n",
    "for i in l:\n",
    "    size += 1\n",
    "print(size)\n",
    "\n",
    "l.pop(3)\n",
    "\n",
    "l.insert(2, 3)\n",
    "\n",
    "l.append(99)\n",
    "\n",
    "if i in l:\n",
    "    print(l.index(i))"
   ]
  },
  {
   "cell_type": "code",
   "execution_count": 2,
   "metadata": {},
   "outputs": [
    {
     "name": "stdout",
     "output_type": "stream",
     "text": [
      "{'pen': 3, 'ball': 2, 'eraser': 1, 'band': 1, 'pencil': 1}\n"
     ]
    }
   ],
   "source": [
    "# Item count in grocery list\n",
    "l = ['pen', 'ball', 'eraser', 'pen', 'band', 'pen', 'pencil', 'ball']\n",
    "itemCount = {}\n",
    "for i in l:\n",
    "    item = i\n",
    "    count = 0\n",
    "    for j in l:\n",
    "        if(j == item):\n",
    "            count += 1\n",
    "    itemCount[i] = count\n",
    "print(itemCount)"
   ]
  },
  {
   "cell_type": "code",
   "execution_count": null,
   "metadata": {},
   "outputs": [],
   "source": [
    "price = [('item1', 17.20), ('item2', 15.10), ('item3', 24.5),]\n",
    "for item, itemPrice in price:\n",
    "    print(f\"Price of {item} is {itemPrice}\")"
   ]
  },
  {
   "cell_type": "code",
   "execution_count": null,
   "metadata": {},
   "outputs": [],
   "source": [
    "# Accesing element of the tuple\n",
    "# Not a question\n",
    "l = [(1, 2), (3, 4), (5, 6), (7, 8)]\n",
    "for i,j in l:\n",
    "    print(f\"x-coordinate = {i}, y-coordinate = {j}\")\n",
    "for i in l:\n",
    "    print(i)\n",
    "    print(f\"x-coordinate: {i[0]}\")\n",
    "    print(f\"y-coordinate: {i[1]}\")\n",
    "\n",
    "a = [(1, 2, 10), (3, 4, 20), (5, 6, 30), (7, 8, 40)]\n",
    "for i, j, k in a:\n",
    "    print(i, j, k)"
   ]
  },
  {
   "cell_type": "code",
   "execution_count": null,
   "metadata": {},
   "outputs": [],
   "source": [
    "l = [(1, 2), (3, 4), (5, 6), (7, 8)]\n",
    "x = []\n",
    "y = []\n",
    "for i in l:\n",
    "    x.append(i[0])\n",
    "    y.append(i[1])\n",
    "t = [x, y]\n",
    "print(t)"
   ]
  },
  {
   "cell_type": "code",
   "execution_count": null,
   "metadata": {},
   "outputs": [],
   "source": [
    "text = \"\"\"\n",
    "    Honorable Prime Minister's Independence Day speech goes here.\n",
    "    This is just a sample text for demonstration purposes.\n",
    "\"\"\"\n",
    "\n",
    "words= text.lower().split() #List of words in text\n",
    "print(words)\n",
    "for word in words: #Print each word in the list words\n",
    "    print(word)\n",
    "\n",
    "wordCount = {}\n",
    "for word in words:\n",
    "    if word in wordCount:\n",
    "        wordCount[word] += 1\n",
    "    else:\n",
    "        wordCount[word] = 1\n",
    "print(wordCount)\n",
    "\n",
    "# Print the word which has count greater than three\n",
    "for word, count in wordCount.items():\n",
    "    if(count > 3):\n",
    "        print(word)"
   ]
  },
  {
   "cell_type": "code",
   "execution_count": null,
   "metadata": {},
   "outputs": [],
   "source": [
    "text = \"\"\"\n",
    "    Honorable Prime Minister's Independence Day day day day speech goes here.\n",
    "    This is just a sample text text text text for demonstration purposes.\n",
    "\"\"\"\n",
    "words = text.lower().split()\n",
    "\n",
    "wordCount = {}\n",
    "for word in words:\n",
    "    if word in wordCount:\n",
    "        wordCount[word] += 1\n",
    "    else:\n",
    "        wordCount[word] = 1\n",
    "\n",
    "print(\"Most common words are: \")\n",
    "for word, count in wordCount.items():\n",
    "    if(count > 3):\n",
    "        print(word)"
   ]
  },
  {
   "cell_type": "code",
   "execution_count": null,
   "metadata": {},
   "outputs": [],
   "source": [
    "studentScores = [{'Ramesh': 85}, {'Priyanshu': 85}, {'Dogesh': 92}]\n",
    "requiredMarks = int(input(\"Enter the marks: \"))\n",
    "print(f\"Students with marks greater than {requiredMarks}:\")\n",
    "for i in studentScores:\n",
    "    for name, marks in i.items():\n",
    "        if marks > requiredMarks:\n",
    "            print(name)\n"
   ]
  },
  {
   "cell_type": "code",
   "execution_count": null,
   "metadata": {},
   "outputs": [],
   "source": [
    "def fibo(n):\n",
    "    if n <= 1:\n",
    "        return n\n",
    "    else:\n",
    "        return fibo(n-1) + fibo(n-2)\n",
    "    \n",
    "n = 5\n",
    "for i in range(n):\n",
    "    print(fibo(i))\n"
   ]
  },
  {
   "cell_type": "code",
   "execution_count": null,
   "metadata": {},
   "outputs": [],
   "source": [
    "# List of Celsius temperatures\n",
    "Celsius = [34.56, 23.67, 45.67, 67, 34]\n",
    "\n",
    "# Using map() and lambda expression to convert to Fahrenheit\n",
    "Fahrenheit = list(map(lambda c: (c * 9/5) + 32, Celsius))\n",
    "\n",
    "# Display the original Celsius temperatures and the corresponding Fahrenheit temperatures\n",
    "for c, f in zip(Celsius, Fahrenheit):\n",
    "    print(f\"{c} Celsius is {f:.2f} Fahrenheit\")\n"
   ]
  },
  {
   "cell_type": "code",
   "execution_count": null,
   "metadata": {},
   "outputs": [],
   "source": [
    "import re\n",
    "\n",
    "def check_password_strength(password):\n",
    "    # Check length\n",
    "    if len(password) < 8:\n",
    "        return \"Weak: Password should be at least 8 characters long.\"\n",
    "\n",
    "    # Check for uppercase and lowercase letters\n",
    "    if not any(c.isupper() for c in password) or not any(c.islower() for c in password):\n",
    "        return \"Weak: Password should contain both uppercase and lowercase letters.\"\n",
    "\n",
    "    # Check for at least one digit\n",
    "    if not any(c.isdigit() for c in password):\n",
    "        return \"Weak: Password should contain at least one digit.\"\n",
    "\n",
    "    # Check for at least one special character\n",
    "    if not re.search('[!@#$%^&*]', password):\n",
    "        return \"Weak: Password should contain at least one special character (!@#$%^&*).\"\n",
    "\n",
    "    # Strong password\n",
    "    return \"Strong: Password meets all criteria.\"\n",
    "\n",
    "# Get user input for the password\n",
    "user_password = input(\"Enter your password: \")\n",
    "\n",
    "# Check password strength and provide feedback\n",
    "result = check_password_strength(user_password)\n",
    "print(result)"
   ]
  },
  {
   "cell_type": "code",
   "execution_count": null,
   "metadata": {},
   "outputs": [],
   "source": [
    "def is_valid_email(email):\n",
    "    # Check if '@' and '.' are present in the email\n",
    "    if '@' not in email or '.' not in email:\n",
    "        return False\n",
    "\n",
    "    # Split the email into local part and domain part\n",
    "    local_part, domain_part = email.split('@', 1)\n",
    "\n",
    "    # Check if local part and domain part are not empty\n",
    "    if not local_part or not domain_part:\n",
    "        return False\n",
    "\n",
    "    # Check if '.' appears after '@'\n",
    "    if '.' not in domain_part:\n",
    "        return False\n",
    "\n",
    "    return True\n",
    "\n",
    "# Example usage:\n",
    "email_address = input(\"Enter an email address: \")\n",
    "\n",
    "if is_valid_email(email_address):\n",
    "    print(f\"{email_address} is a valid email address.\")\n",
    "else:\n",
    "    print(f\"{email_address} is not a valid email address.\")\n"
   ]
  },
  {
   "cell_type": "code",
   "execution_count": null,
   "metadata": {},
   "outputs": [],
   "source": [
    "class Student:\n",
    "    def __init__(self, name, roll_number):\n",
    "        self.name = name\n",
    "        self.roll_number = roll_number\n",
    "        self.subjects = {}\n",
    "\n",
    "    def add_subject_marks(self, subject, marks):\n",
    "        if marks > 100:\n",
    "            raise InvalidMarksError(f\"Invalid marks: {marks} for {subject}. Marks should be <= 100.\")\n",
    "        self.subjects[subject] = marks\n",
    "\n",
    "    def display_details(self):\n",
    "        print(f\"Student Details:\")\n",
    "        print(f\"Name: {self.name}\")\n",
    "        print(f\"Roll Number: {self.roll_number}\")\n",
    "        print(\"Subject-wise Marks:\")\n",
    "        for subject, marks in self.subjects.items():\n",
    "            print(f\"{subject}: {marks}\")\n",
    "\n",
    "class InvalidMarksError(Exception):\n",
    "    pass\n",
    "\n",
    "def main():\n",
    "    try:\n",
    "        # Get student details from user\n",
    "        name = input(\"Enter student name: \")\n",
    "        roll_number = input(\"Enter roll number: \")\n",
    "\n",
    "        # Create a Student object\n",
    "        student = Student(name, roll_number)\n",
    "\n",
    "        # Get subject-wise marks from user\n",
    "        subjects = [\"Math\", \"Physics\", \"Chemistry\", \"English\"]\n",
    "        for subject in subjects:\n",
    "            try:\n",
    "                marks = int(input(f\"Enter marks for {subject}: \"))\n",
    "                student.add_subject_marks(subject, marks)\n",
    "            except ValueError:\n",
    "                print(\"Invalid input. Please enter a valid integer for marks.\")\n",
    "\n",
    "        # Display student details\n",
    "        student.display_details()\n",
    "\n",
    "    except InvalidMarksError as e:\n",
    "        print(f\"Error: {e}\")\n",
    "\n",
    "if __name__ == \"__main__\":\n",
    "    main()"
   ]
  }
 ],
 "metadata": {
  "kernelspec": {
   "display_name": "Python 3",
   "language": "python",
   "name": "python3"
  },
  "language_info": {
   "codemirror_mode": {
    "name": "ipython",
    "version": 3
   },
   "file_extension": ".py",
   "mimetype": "text/x-python",
   "name": "python",
   "nbconvert_exporter": "python",
   "pygments_lexer": "ipython3",
   "version": "3.12.0"
  }
 },
 "nbformat": 4,
 "nbformat_minor": 2
}
