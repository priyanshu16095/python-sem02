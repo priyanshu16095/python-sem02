{
 "cells": [
  {
   "cell_type": "code",
   "execution_count": null,
   "metadata": {},
   "outputs": [],
   "source": [
    "# List of sum of squares of odd and even number in the list\n",
    "def sums(list):\n",
    "    result = []\n",
    "    oddCount = 0\n",
    "    evenCount = 0\n",
    "    for i in list:\n",
    "        if(i % 2 == 0):\n",
    "            evenCount += i*i\n",
    "        else:\n",
    "            oddCount += i*i\n",
    "    result.append(oddCount)\n",
    "    result.append(evenCount)\n",
    "    print(result)\n",
    "\n",
    "list = [1, 3, 5, 8]\n",
    "sums(list)"
   ]
  },
  {
   "cell_type": "code",
   "execution_count": null,
   "metadata": {},
   "outputs": [],
   "source": [
    "# Removes duplicate elements from the list\n",
    "def removeDuplicates(list):\n",
    "    result = []\n",
    "    for i in list:\n",
    "        if i not in result:\n",
    "            result.append(i)\n",
    "    print(result)\n",
    "\n",
    "list = [3, 1, 5, 3, 6, 6, 7, 1]\n",
    "removeDuplicates(list)"
   ]
  },
  {
   "cell_type": "code",
   "execution_count": null,
   "metadata": {},
   "outputs": [],
   "source": [
    "# Prime number from 1 to 100\n",
    "for n in range(2, 100):\n",
    "    isPrime = True\n",
    "    for i in range(2, int(n**0.5)+1):\n",
    "        if n % i == 0:\n",
    "            isPrime = False\n",
    "            break\n",
    "    if isPrime:\n",
    "        print(n)"
   ]
  },
  {
   "cell_type": "code",
   "execution_count": null,
   "metadata": {},
   "outputs": [],
   "source": [
    "# String is a sequence of characters enclose within either single, double or triple quotes\n",
    "# Strings are immutable.\n",
    "str1 = \"Python\"\n",
    "str2 = \"Java\"\n",
    "\n",
    "str3 = str1 + str2\n",
    "len(str1)\n",
    "str1[0]\n",
    "str1[1:4]\n",
    "str1.lower()\n",
    "str1.upper()\n",
    "str1.split()\n",
    "str1.startswith('b')\n",
    "str1.endswith('n')\n",
    "str1.count('n')\n"
   ]
  },
  {
   "cell_type": "code",
   "execution_count": null,
   "metadata": {},
   "outputs": [],
   "source": [
    "# List is mutable, ordered collection of elements enclose wiht '[]'\n",
    "# Can store any type of value\n",
    "list1 = [1, 2, 3]\n",
    "list2 = [4, 5, 6]\n",
    "\n",
    "list3 = list1 + list2\n",
    "\n",
    "len(list1)\n",
    "list1[0]\n",
    "list1[1:2]\n",
    "list1[2] = 'two'\n",
    "list1.append('python')\n",
    "list1.extend(['apple', 'mango', 'banana'])\n",
    "list1.insert(2, 11)\n",
    "list1.remove('apple')\n",
    "list1.pop()\n",
    "list1.index('mango')\n",
    "list1.count('two')\n",
    "list1.reverse()\n",
    "list1.clear()\n",
    "\n",
    "del list1"
   ]
  },
  {
   "cell_type": "code",
   "execution_count": null,
   "metadata": {},
   "outputs": [],
   "source": [
    "# Tuple is a ordered, immutabe sequence of elements\n",
    "# Can store any type of value.\n",
    "tuple1 = (1, 2, 3)\n",
    "tuple2 = (4, 5, 6)\n",
    "\n",
    "tuple3 = tuple1 + tuple2\n",
    "print(tuple3)\n",
    "\n",
    "len(tuple1)\n",
    "tuple1[0]\n",
    "tuple1[0:2]\n",
    "tuple1.index(3)\n",
    "tuple1.count(2)\n",
    "len(tuple1)\n",
    "min(tuple1)\n",
    "max(tuple2)\n",
    "\n",
    "a, b, c = tuple1\n",
    "\n",
    "if 2 in tuple1:\n",
    "    print('Present')\n",
    "\n",
    "del tuple1"
   ]
  },
  {
   "cell_type": "code",
   "execution_count": null,
   "metadata": {},
   "outputs": [],
   "source": [
    "# Dictionary is a mutable, unordered collection of key-value pairs, where each key must be unique\n",
    "dict1 = {'apple': 3, 'mango': 1, 'banana': 5}\n",
    "\n",
    "if 'apple' in dict1:\n",
    "    print('Present')\n",
    "\n",
    "dict1['watermelon'] = 4\n",
    "dict1['apple'] = 2\n",
    "dict1.pop('apple')\n",
    "dict1.popitem()\n",
    "\n",
    "dict1.keys()\n",
    "dict1.values()\n",
    "dict1.items()\n",
    "len(dict1)\n",
    "dict2 = dict1.copy()\n",
    "\n",
    "del dict1"
   ]
  }
 ],
 "metadata": {
  "kernelspec": {
   "display_name": "Python 3",
   "language": "python",
   "name": "python3"
  },
  "language_info": {
   "codemirror_mode": {
    "name": "ipython",
    "version": 3
   },
   "file_extension": ".py",
   "mimetype": "text/x-python",
   "name": "python",
   "nbconvert_exporter": "python",
   "pygments_lexer": "ipython3",
   "version": "3.12.0"
  }
 },
 "nbformat": 4,
 "nbformat_minor": 2
}
